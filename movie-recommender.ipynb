{
 "cells": [
  {
   "cell_type": "code",
   "execution_count": 1,
   "id": "55f9eeb8",
   "metadata": {
    "_cell_guid": "b1076dfc-b9ad-4769-8c92-a6c4dae69d19",
    "_uuid": "8f2839f25d086af736a60e9eeb907d3b93b6e0e5",
    "execution": {
     "iopub.execute_input": "2024-12-14T18:42:25.197361Z",
     "iopub.status.busy": "2024-12-14T18:42:25.196979Z",
     "iopub.status.idle": "2024-12-14T18:42:26.132773Z",
     "shell.execute_reply": "2024-12-14T18:42:26.131343Z"
    },
    "papermill": {
     "duration": 0.948018,
     "end_time": "2024-12-14T18:42:26.135207",
     "exception": false,
     "start_time": "2024-12-14T18:42:25.187189",
     "status": "completed"
    },
    "tags": []
   },
   "outputs": [
    {
     "name": "stdout",
     "output_type": "stream",
     "text": [
      "/kaggle/input/tmbd-datasets/tmdb_5000_movies.csv\n",
      "/kaggle/input/tmbd-datasets/tmdb_5000_credits.csv\n"
     ]
    }
   ],
   "source": [
    "# This Python 3 environment comes with many helpful analytics libraries installed\n",
    "# It is defined by the kaggle/python Docker image: https://github.com/kaggle/docker-python\n",
    "# For example, here's several helpful packages to load\n",
    "\n",
    "import numpy as np # linear algebra\n",
    "import pandas as pd # data processing, CSV file I/O (e.g. pd.read_csv)\n",
    "\n",
    "# Input data files are available in the read-only \"../input/\" directory\n",
    "# For example, running this (by clicking run or pressing Shift+Enter) will list all files under the input directory\n",
    "\n",
    "import os\n",
    "for dirname, _, filenames in os.walk('/kaggle/input'):\n",
    "    for filename in filenames:\n",
    "        print(os.path.join(dirname, filename))\n",
    "\n",
    "# You can write up to 20GB to the current directory (/kaggle/working/) that gets preserved as output when you create a version using \"Save & Run All\" \n",
    "# You can also write temporary files to /kaggle/temp/, but they won't be saved outside of the current session"
   ]
  },
  {
   "cell_type": "code",
   "execution_count": 2,
   "id": "4e14175f",
   "metadata": {
    "execution": {
     "iopub.execute_input": "2024-12-14T18:42:26.151293Z",
     "iopub.status.busy": "2024-12-14T18:42:26.150752Z",
     "iopub.status.idle": "2024-12-14T18:42:27.403709Z",
     "shell.execute_reply": "2024-12-14T18:42:27.402496Z"
    },
    "papermill": {
     "duration": 1.263678,
     "end_time": "2024-12-14T18:42:27.406395",
     "exception": false,
     "start_time": "2024-12-14T18:42:26.142717",
     "status": "completed"
    },
    "tags": []
   },
   "outputs": [],
   "source": [
    "movies=pd.read_csv(\"/kaggle/input/tmbd-datasets/tmdb_5000_movies.csv\")\n",
    "credit=pd.read_csv(\"/kaggle/input/tmbd-datasets/tmdb_5000_credits.csv\")"
   ]
  },
  {
   "cell_type": "code",
   "execution_count": 3,
   "id": "3b9d0e84",
   "metadata": {
    "execution": {
     "iopub.execute_input": "2024-12-14T18:42:27.422509Z",
     "iopub.status.busy": "2024-12-14T18:42:27.422137Z",
     "iopub.status.idle": "2024-12-14T18:42:27.459122Z",
     "shell.execute_reply": "2024-12-14T18:42:27.457629Z"
    },
    "papermill": {
     "duration": 0.047339,
     "end_time": "2024-12-14T18:42:27.461671",
     "exception": false,
     "start_time": "2024-12-14T18:42:27.414332",
     "status": "completed"
    },
    "tags": []
   },
   "outputs": [
    {
     "name": "stdout",
     "output_type": "stream",
     "text": [
      "<class 'pandas.core.frame.DataFrame'>\n",
      "RangeIndex: 4803 entries, 0 to 4802\n",
      "Data columns (total 20 columns):\n",
      " #   Column                Non-Null Count  Dtype  \n",
      "---  ------                --------------  -----  \n",
      " 0   budget                4803 non-null   int64  \n",
      " 1   genres                4803 non-null   object \n",
      " 2   homepage              1712 non-null   object \n",
      " 3   id                    4803 non-null   int64  \n",
      " 4   keywords              4803 non-null   object \n",
      " 5   original_language     4803 non-null   object \n",
      " 6   original_title        4803 non-null   object \n",
      " 7   overview              4800 non-null   object \n",
      " 8   popularity            4803 non-null   float64\n",
      " 9   production_companies  4803 non-null   object \n",
      " 10  production_countries  4803 non-null   object \n",
      " 11  release_date          4802 non-null   object \n",
      " 12  revenue               4803 non-null   int64  \n",
      " 13  runtime               4801 non-null   float64\n",
      " 14  spoken_languages      4803 non-null   object \n",
      " 15  status                4803 non-null   object \n",
      " 16  tagline               3959 non-null   object \n",
      " 17  title                 4803 non-null   object \n",
      " 18  vote_average          4803 non-null   float64\n",
      " 19  vote_count            4803 non-null   int64  \n",
      "dtypes: float64(3), int64(4), object(13)\n",
      "memory usage: 750.6+ KB\n"
     ]
    }
   ],
   "source": [
    "movies.info()"
   ]
  },
  {
   "cell_type": "code",
   "execution_count": 4,
   "id": "992a9c63",
   "metadata": {
    "execution": {
     "iopub.execute_input": "2024-12-14T18:42:27.477114Z",
     "iopub.status.busy": "2024-12-14T18:42:27.476720Z",
     "iopub.status.idle": "2024-12-14T18:42:27.502159Z",
     "shell.execute_reply": "2024-12-14T18:42:27.501104Z"
    },
    "papermill": {
     "duration": 0.035582,
     "end_time": "2024-12-14T18:42:27.504209",
     "exception": false,
     "start_time": "2024-12-14T18:42:27.468627",
     "status": "completed"
    },
    "tags": []
   },
   "outputs": [
    {
     "data": {
      "text/plain": [
       "(4809, 23)"
      ]
     },
     "execution_count": 4,
     "metadata": {},
     "output_type": "execute_result"
    }
   ],
   "source": [
    "movies=movies.merge(credit, on='title')\n",
    "movies.shape"
   ]
  },
  {
   "cell_type": "code",
   "execution_count": 5,
   "id": "2bc1d1ce",
   "metadata": {
    "execution": {
     "iopub.execute_input": "2024-12-14T18:42:27.519602Z",
     "iopub.status.busy": "2024-12-14T18:42:27.519213Z",
     "iopub.status.idle": "2024-12-14T18:42:27.524967Z",
     "shell.execute_reply": "2024-12-14T18:42:27.523870Z"
    },
    "papermill": {
     "duration": 0.016001,
     "end_time": "2024-12-14T18:42:27.526982",
     "exception": false,
     "start_time": "2024-12-14T18:42:27.510981",
     "status": "completed"
    },
    "tags": []
   },
   "outputs": [
    {
     "name": "stdout",
     "output_type": "stream",
     "text": [
      "Avatar\n"
     ]
    }
   ],
   "source": [
    "print(movies['title'][0])"
   ]
  },
  {
   "cell_type": "code",
   "execution_count": 6,
   "id": "1b02ca97",
   "metadata": {
    "execution": {
     "iopub.execute_input": "2024-12-14T18:42:27.542391Z",
     "iopub.status.busy": "2024-12-14T18:42:27.541956Z",
     "iopub.status.idle": "2024-12-14T18:42:27.550031Z",
     "shell.execute_reply": "2024-12-14T18:42:27.548939Z"
    },
    "papermill": {
     "duration": 0.018518,
     "end_time": "2024-12-14T18:42:27.552317",
     "exception": false,
     "start_time": "2024-12-14T18:42:27.533799",
     "status": "completed"
    },
    "tags": []
   },
   "outputs": [],
   "source": [
    "movies=movies[['id', 'original_title', 'genres', 'keywords', 'cast', 'crew', 'overview']]"
   ]
  },
  {
   "cell_type": "code",
   "execution_count": 7,
   "id": "7715e8d6",
   "metadata": {
    "execution": {
     "iopub.execute_input": "2024-12-14T18:42:27.568443Z",
     "iopub.status.busy": "2024-12-14T18:42:27.567485Z",
     "iopub.status.idle": "2024-12-14T18:42:27.587307Z",
     "shell.execute_reply": "2024-12-14T18:42:27.586354Z"
    },
    "papermill": {
     "duration": 0.03008,
     "end_time": "2024-12-14T18:42:27.589557",
     "exception": false,
     "start_time": "2024-12-14T18:42:27.559477",
     "status": "completed"
    },
    "tags": []
   },
   "outputs": [
    {
     "data": {
      "text/plain": [
       "id                0\n",
       "original_title    0\n",
       "genres            0\n",
       "keywords          0\n",
       "cast              0\n",
       "crew              0\n",
       "overview          0\n",
       "dtype: int64"
      ]
     },
     "execution_count": 7,
     "metadata": {},
     "output_type": "execute_result"
    }
   ],
   "source": [
    "movies.dropna(inplace=True)\n",
    "movies.isnull().sum()"
   ]
  },
  {
   "cell_type": "code",
   "execution_count": 8,
   "id": "f87aa8ba",
   "metadata": {
    "execution": {
     "iopub.execute_input": "2024-12-14T18:42:27.605723Z",
     "iopub.status.busy": "2024-12-14T18:42:27.605340Z",
     "iopub.status.idle": "2024-12-14T18:42:27.612438Z",
     "shell.execute_reply": "2024-12-14T18:42:27.611328Z"
    },
    "papermill": {
     "duration": 0.017776,
     "end_time": "2024-12-14T18:42:27.614417",
     "exception": false,
     "start_time": "2024-12-14T18:42:27.596641",
     "status": "completed"
    },
    "tags": []
   },
   "outputs": [
    {
     "data": {
      "text/plain": [
       "'[{\"id\": 28, \"name\": \"Action\"}, {\"id\": 12, \"name\": \"Adventure\"}, {\"id\": 14, \"name\": \"Fantasy\"}, {\"id\": 878, \"name\": \"Science Fiction\"}]'"
      ]
     },
     "execution_count": 8,
     "metadata": {},
     "output_type": "execute_result"
    }
   ],
   "source": [
    "movies['genres'][0]"
   ]
  },
  {
   "cell_type": "code",
   "execution_count": 9,
   "id": "54457c86",
   "metadata": {
    "execution": {
     "iopub.execute_input": "2024-12-14T18:42:27.631158Z",
     "iopub.status.busy": "2024-12-14T18:42:27.630794Z",
     "iopub.status.idle": "2024-12-14T18:42:27.635917Z",
     "shell.execute_reply": "2024-12-14T18:42:27.634963Z"
    },
    "papermill": {
     "duration": 0.015465,
     "end_time": "2024-12-14T18:42:27.637895",
     "exception": false,
     "start_time": "2024-12-14T18:42:27.622430",
     "status": "completed"
    },
    "tags": []
   },
   "outputs": [],
   "source": [
    "import ast\n",
    "def convert(obj):\n",
    "    l=[]\n",
    "    #ast.literal_eval() convert a string into list\n",
    "    for i in ast.literal_eval(obj) :\n",
    "        l.append(i['name'])\n",
    "    return l"
   ]
  },
  {
   "cell_type": "code",
   "execution_count": 10,
   "id": "cc7da89b",
   "metadata": {
    "execution": {
     "iopub.execute_input": "2024-12-14T18:42:27.653597Z",
     "iopub.status.busy": "2024-12-14T18:42:27.653203Z",
     "iopub.status.idle": "2024-12-14T18:42:27.805546Z",
     "shell.execute_reply": "2024-12-14T18:42:27.804233Z"
    },
    "papermill": {
     "duration": 0.16315,
     "end_time": "2024-12-14T18:42:27.808103",
     "exception": false,
     "start_time": "2024-12-14T18:42:27.644953",
     "status": "completed"
    },
    "tags": []
   },
   "outputs": [],
   "source": [
    "movies['genres']=movies['genres'].apply(convert) # as movies['genres'] that's a string you have to write it lke that"
   ]
  },
  {
   "cell_type": "code",
   "execution_count": 11,
   "id": "2f16d169",
   "metadata": {
    "execution": {
     "iopub.execute_input": "2024-12-14T18:42:27.824240Z",
     "iopub.status.busy": "2024-12-14T18:42:27.823841Z",
     "iopub.status.idle": "2024-12-14T18:42:28.214841Z",
     "shell.execute_reply": "2024-12-14T18:42:28.213832Z"
    },
    "papermill": {
     "duration": 0.401817,
     "end_time": "2024-12-14T18:42:28.217210",
     "exception": false,
     "start_time": "2024-12-14T18:42:27.815393",
     "status": "completed"
    },
    "tags": []
   },
   "outputs": [],
   "source": [
    "movies['keywords']=movies['keywords'].apply(convert) # as movies['genres'] that's a string you have to write it lke that"
   ]
  },
  {
   "cell_type": "code",
   "execution_count": 12,
   "id": "fd13241e",
   "metadata": {
    "execution": {
     "iopub.execute_input": "2024-12-14T18:42:28.233899Z",
     "iopub.status.busy": "2024-12-14T18:42:28.233495Z",
     "iopub.status.idle": "2024-12-14T18:42:28.239655Z",
     "shell.execute_reply": "2024-12-14T18:42:28.238338Z"
    },
    "papermill": {
     "duration": 0.017079,
     "end_time": "2024-12-14T18:42:28.241856",
     "exception": false,
     "start_time": "2024-12-14T18:42:28.224777",
     "status": "completed"
    },
    "tags": []
   },
   "outputs": [],
   "source": [
    "def convert_cast(obj):\n",
    "    l=[]\n",
    "    cnt=0\n",
    "    for i in ast.literal_eval(obj) :\n",
    "        if cnt!=3:\n",
    "            l.append(i['name'])\n",
    "            cnt=cnt+1\n",
    "        else:\n",
    "            break\n",
    "    return l"
   ]
  },
  {
   "cell_type": "code",
   "execution_count": 13,
   "id": "fe9e3336",
   "metadata": {
    "execution": {
     "iopub.execute_input": "2024-12-14T18:42:28.258063Z",
     "iopub.status.busy": "2024-12-14T18:42:28.257651Z",
     "iopub.status.idle": "2024-12-14T18:42:31.582526Z",
     "shell.execute_reply": "2024-12-14T18:42:31.581341Z"
    },
    "papermill": {
     "duration": 3.336149,
     "end_time": "2024-12-14T18:42:31.585178",
     "exception": false,
     "start_time": "2024-12-14T18:42:28.249029",
     "status": "completed"
    },
    "tags": []
   },
   "outputs": [],
   "source": [
    "movies['cast']=movies['cast'].apply(convert_cast)"
   ]
  },
  {
   "cell_type": "code",
   "execution_count": 14,
   "id": "6c920d1c",
   "metadata": {
    "execution": {
     "iopub.execute_input": "2024-12-14T18:42:31.603624Z",
     "iopub.status.busy": "2024-12-14T18:42:31.603212Z",
     "iopub.status.idle": "2024-12-14T18:42:35.397470Z",
     "shell.execute_reply": "2024-12-14T18:42:35.396506Z"
    },
    "papermill": {
     "duration": 3.807642,
     "end_time": "2024-12-14T18:42:35.399919",
     "exception": false,
     "start_time": "2024-12-14T18:42:31.592277",
     "status": "completed"
    },
    "tags": []
   },
   "outputs": [],
   "source": [
    "x=movies['crew'].apply(ast.literal_eval)"
   ]
  },
  {
   "cell_type": "code",
   "execution_count": 15,
   "id": "67cfef36",
   "metadata": {
    "execution": {
     "iopub.execute_input": "2024-12-14T18:42:35.415757Z",
     "iopub.status.busy": "2024-12-14T18:42:35.415351Z",
     "iopub.status.idle": "2024-12-14T18:42:35.420880Z",
     "shell.execute_reply": "2024-12-14T18:42:35.419820Z"
    },
    "papermill": {
     "duration": 0.015921,
     "end_time": "2024-12-14T18:42:35.423071",
     "exception": false,
     "start_time": "2024-12-14T18:42:35.407150",
     "status": "completed"
    },
    "tags": []
   },
   "outputs": [],
   "source": [
    "def detach_director(obj):\n",
    "    l=[]\n",
    "    cnt=0\n",
    "    for i in ast.literal_eval(obj) :\n",
    "        if i['job']=='Director':\n",
    "            l.append(i['name'])\n",
    "    return l"
   ]
  },
  {
   "cell_type": "code",
   "execution_count": 16,
   "id": "9ecee210",
   "metadata": {
    "execution": {
     "iopub.execute_input": "2024-12-14T18:42:35.438745Z",
     "iopub.status.busy": "2024-12-14T18:42:35.438344Z",
     "iopub.status.idle": "2024-12-14T18:42:39.137620Z",
     "shell.execute_reply": "2024-12-14T18:42:39.136593Z"
    },
    "papermill": {
     "duration": 3.71006,
     "end_time": "2024-12-14T18:42:39.140143",
     "exception": false,
     "start_time": "2024-12-14T18:42:35.430083",
     "status": "completed"
    },
    "tags": []
   },
   "outputs": [],
   "source": [
    "movies['crew']=movies['crew'].apply(detach_director)"
   ]
  },
  {
   "cell_type": "code",
   "execution_count": 17,
   "id": "1e30b8b7",
   "metadata": {
    "execution": {
     "iopub.execute_input": "2024-12-14T18:42:39.157337Z",
     "iopub.status.busy": "2024-12-14T18:42:39.156078Z",
     "iopub.status.idle": "2024-12-14T18:42:39.200286Z",
     "shell.execute_reply": "2024-12-14T18:42:39.199170Z"
    },
    "papermill": {
     "duration": 0.055342,
     "end_time": "2024-12-14T18:42:39.202811",
     "exception": false,
     "start_time": "2024-12-14T18:42:39.147469",
     "status": "completed"
    },
    "tags": []
   },
   "outputs": [],
   "source": [
    "movies['overview']=movies['overview'].apply(lambda x:x.split())"
   ]
  },
  {
   "cell_type": "code",
   "execution_count": 18,
   "id": "f42928f8",
   "metadata": {
    "execution": {
     "iopub.execute_input": "2024-12-14T18:42:39.219152Z",
     "iopub.status.busy": "2024-12-14T18:42:39.218241Z",
     "iopub.status.idle": "2024-12-14T18:42:39.244935Z",
     "shell.execute_reply": "2024-12-14T18:42:39.243842Z"
    },
    "papermill": {
     "duration": 0.037153,
     "end_time": "2024-12-14T18:42:39.247105",
     "exception": false,
     "start_time": "2024-12-14T18:42:39.209952",
     "status": "completed"
    },
    "tags": []
   },
   "outputs": [
    {
     "data": {
      "text/html": [
       "<div>\n",
       "<style scoped>\n",
       "    .dataframe tbody tr th:only-of-type {\n",
       "        vertical-align: middle;\n",
       "    }\n",
       "\n",
       "    .dataframe tbody tr th {\n",
       "        vertical-align: top;\n",
       "    }\n",
       "\n",
       "    .dataframe thead th {\n",
       "        text-align: right;\n",
       "    }\n",
       "</style>\n",
       "<table border=\"1\" class=\"dataframe\">\n",
       "  <thead>\n",
       "    <tr style=\"text-align: right;\">\n",
       "      <th></th>\n",
       "      <th>id</th>\n",
       "      <th>original_title</th>\n",
       "      <th>genres</th>\n",
       "      <th>keywords</th>\n",
       "      <th>cast</th>\n",
       "      <th>crew</th>\n",
       "      <th>overview</th>\n",
       "    </tr>\n",
       "  </thead>\n",
       "  <tbody>\n",
       "    <tr>\n",
       "      <th>0</th>\n",
       "      <td>19995</td>\n",
       "      <td>Avatar</td>\n",
       "      <td>[Action, Adventure, Fantasy, Science Fiction]</td>\n",
       "      <td>[culture clash, future, space war, space colon...</td>\n",
       "      <td>[Sam Worthington, Zoe Saldana, Sigourney Weaver]</td>\n",
       "      <td>[James Cameron]</td>\n",
       "      <td>[In, the, 22nd, century,, a, paraplegic, Marin...</td>\n",
       "    </tr>\n",
       "    <tr>\n",
       "      <th>1</th>\n",
       "      <td>285</td>\n",
       "      <td>Pirates of the Caribbean: At World's End</td>\n",
       "      <td>[Adventure, Fantasy, Action]</td>\n",
       "      <td>[ocean, drug abuse, exotic island, east india ...</td>\n",
       "      <td>[Johnny Depp, Orlando Bloom, Keira Knightley]</td>\n",
       "      <td>[Gore Verbinski]</td>\n",
       "      <td>[Captain, Barbossa,, long, believed, to, be, d...</td>\n",
       "    </tr>\n",
       "    <tr>\n",
       "      <th>2</th>\n",
       "      <td>206647</td>\n",
       "      <td>Spectre</td>\n",
       "      <td>[Action, Adventure, Crime]</td>\n",
       "      <td>[spy, based on novel, secret agent, sequel, mi...</td>\n",
       "      <td>[Daniel Craig, Christoph Waltz, Léa Seydoux]</td>\n",
       "      <td>[Sam Mendes]</td>\n",
       "      <td>[A, cryptic, message, from, Bond’s, past, send...</td>\n",
       "    </tr>\n",
       "    <tr>\n",
       "      <th>3</th>\n",
       "      <td>49026</td>\n",
       "      <td>The Dark Knight Rises</td>\n",
       "      <td>[Action, Crime, Drama, Thriller]</td>\n",
       "      <td>[dc comics, crime fighter, terrorist, secret i...</td>\n",
       "      <td>[Christian Bale, Michael Caine, Gary Oldman]</td>\n",
       "      <td>[Christopher Nolan]</td>\n",
       "      <td>[Following, the, death, of, District, Attorney...</td>\n",
       "    </tr>\n",
       "    <tr>\n",
       "      <th>4</th>\n",
       "      <td>49529</td>\n",
       "      <td>John Carter</td>\n",
       "      <td>[Action, Adventure, Science Fiction]</td>\n",
       "      <td>[based on novel, mars, medallion, space travel...</td>\n",
       "      <td>[Taylor Kitsch, Lynn Collins, Samantha Morton]</td>\n",
       "      <td>[Andrew Stanton]</td>\n",
       "      <td>[John, Carter, is, a, war-weary,, former, mili...</td>\n",
       "    </tr>\n",
       "  </tbody>\n",
       "</table>\n",
       "</div>"
      ],
      "text/plain": [
       "       id                            original_title  \\\n",
       "0   19995                                    Avatar   \n",
       "1     285  Pirates of the Caribbean: At World's End   \n",
       "2  206647                                   Spectre   \n",
       "3   49026                     The Dark Knight Rises   \n",
       "4   49529                               John Carter   \n",
       "\n",
       "                                          genres  \\\n",
       "0  [Action, Adventure, Fantasy, Science Fiction]   \n",
       "1                   [Adventure, Fantasy, Action]   \n",
       "2                     [Action, Adventure, Crime]   \n",
       "3               [Action, Crime, Drama, Thriller]   \n",
       "4           [Action, Adventure, Science Fiction]   \n",
       "\n",
       "                                            keywords  \\\n",
       "0  [culture clash, future, space war, space colon...   \n",
       "1  [ocean, drug abuse, exotic island, east india ...   \n",
       "2  [spy, based on novel, secret agent, sequel, mi...   \n",
       "3  [dc comics, crime fighter, terrorist, secret i...   \n",
       "4  [based on novel, mars, medallion, space travel...   \n",
       "\n",
       "                                               cast                 crew  \\\n",
       "0  [Sam Worthington, Zoe Saldana, Sigourney Weaver]      [James Cameron]   \n",
       "1     [Johnny Depp, Orlando Bloom, Keira Knightley]     [Gore Verbinski]   \n",
       "2      [Daniel Craig, Christoph Waltz, Léa Seydoux]         [Sam Mendes]   \n",
       "3      [Christian Bale, Michael Caine, Gary Oldman]  [Christopher Nolan]   \n",
       "4    [Taylor Kitsch, Lynn Collins, Samantha Morton]     [Andrew Stanton]   \n",
       "\n",
       "                                            overview  \n",
       "0  [In, the, 22nd, century,, a, paraplegic, Marin...  \n",
       "1  [Captain, Barbossa,, long, believed, to, be, d...  \n",
       "2  [A, cryptic, message, from, Bond’s, past, send...  \n",
       "3  [Following, the, death, of, District, Attorney...  \n",
       "4  [John, Carter, is, a, war-weary,, former, mili...  "
      ]
     },
     "execution_count": 18,
     "metadata": {},
     "output_type": "execute_result"
    }
   ],
   "source": [
    "movies.head()"
   ]
  },
  {
   "cell_type": "code",
   "execution_count": 19,
   "id": "e151e092",
   "metadata": {
    "execution": {
     "iopub.execute_input": "2024-12-14T18:42:39.263825Z",
     "iopub.status.busy": "2024-12-14T18:42:39.263444Z",
     "iopub.status.idle": "2024-12-14T18:42:39.274747Z",
     "shell.execute_reply": "2024-12-14T18:42:39.273565Z"
    },
    "papermill": {
     "duration": 0.022273,
     "end_time": "2024-12-14T18:42:39.276992",
     "exception": false,
     "start_time": "2024-12-14T18:42:39.254719",
     "status": "completed"
    },
    "tags": []
   },
   "outputs": [],
   "source": [
    "vanish_space=lambda x:[i.replace(\" \", \"\")for i in x]\n",
    "movies['genres']=movies['genres'].apply(vanish_space)"
   ]
  },
  {
   "cell_type": "code",
   "execution_count": 20,
   "id": "a2b74f0d",
   "metadata": {
    "execution": {
     "iopub.execute_input": "2024-12-14T18:42:39.293686Z",
     "iopub.status.busy": "2024-12-14T18:42:39.293270Z",
     "iopub.status.idle": "2024-12-14T18:42:39.300201Z",
     "shell.execute_reply": "2024-12-14T18:42:39.299063Z"
    },
    "papermill": {
     "duration": 0.017381,
     "end_time": "2024-12-14T18:42:39.302215",
     "exception": false,
     "start_time": "2024-12-14T18:42:39.284834",
     "status": "completed"
    },
    "tags": []
   },
   "outputs": [
    {
     "data": {
      "text/plain": [
       "['Action', 'Adventure', 'Fantasy', 'ScienceFiction']"
      ]
     },
     "execution_count": 20,
     "metadata": {},
     "output_type": "execute_result"
    }
   ],
   "source": [
    "movies['genres'][0]"
   ]
  },
  {
   "cell_type": "code",
   "execution_count": 21,
   "id": "6434e3a3",
   "metadata": {
    "execution": {
     "iopub.execute_input": "2024-12-14T18:42:39.319213Z",
     "iopub.status.busy": "2024-12-14T18:42:39.318848Z",
     "iopub.status.idle": "2024-12-14T18:42:39.442498Z",
     "shell.execute_reply": "2024-12-14T18:42:39.441323Z"
    },
    "papermill": {
     "duration": 0.134696,
     "end_time": "2024-12-14T18:42:39.444875",
     "exception": false,
     "start_time": "2024-12-14T18:42:39.310179",
     "status": "completed"
    },
    "tags": []
   },
   "outputs": [],
   "source": [
    "movies['crew']=movies['crew'].apply(vanish_space)\n",
    "movies['keywords']=movies['keywords'].apply(vanish_space)\n",
    "movies['cast']=movies['cast'].apply(vanish_space)"
   ]
  },
  {
   "cell_type": "code",
   "execution_count": 22,
   "id": "07eda6ce",
   "metadata": {
    "execution": {
     "iopub.execute_input": "2024-12-14T18:42:39.462206Z",
     "iopub.status.busy": "2024-12-14T18:42:39.461025Z",
     "iopub.status.idle": "2024-12-14T18:42:39.515384Z",
     "shell.execute_reply": "2024-12-14T18:42:39.514454Z"
    },
    "papermill": {
     "duration": 0.065172,
     "end_time": "2024-12-14T18:42:39.517696",
     "exception": false,
     "start_time": "2024-12-14T18:42:39.452524",
     "status": "completed"
    },
    "tags": []
   },
   "outputs": [],
   "source": [
    "movies['tags']=movies['overview']+movies['genres']+movies['keywords']+movies['cast']+movies['crew']"
   ]
  },
  {
   "cell_type": "code",
   "execution_count": 23,
   "id": "7955dade",
   "metadata": {
    "execution": {
     "iopub.execute_input": "2024-12-14T18:42:39.534163Z",
     "iopub.status.busy": "2024-12-14T18:42:39.533775Z",
     "iopub.status.idle": "2024-12-14T18:42:39.540436Z",
     "shell.execute_reply": "2024-12-14T18:42:39.539328Z"
    },
    "papermill": {
     "duration": 0.017377,
     "end_time": "2024-12-14T18:42:39.542591",
     "exception": false,
     "start_time": "2024-12-14T18:42:39.525214",
     "status": "completed"
    },
    "tags": []
   },
   "outputs": [],
   "source": [
    "new_df=movies[['id','original_title','tags']]"
   ]
  },
  {
   "cell_type": "code",
   "execution_count": 24,
   "id": "3fc2e18f",
   "metadata": {
    "execution": {
     "iopub.execute_input": "2024-12-14T18:42:39.559897Z",
     "iopub.status.busy": "2024-12-14T18:42:39.559090Z",
     "iopub.status.idle": "2024-12-14T18:42:39.571893Z",
     "shell.execute_reply": "2024-12-14T18:42:39.570828Z"
    },
    "papermill": {
     "duration": 0.023817,
     "end_time": "2024-12-14T18:42:39.573925",
     "exception": false,
     "start_time": "2024-12-14T18:42:39.550108",
     "status": "completed"
    },
    "tags": []
   },
   "outputs": [
    {
     "data": {
      "text/html": [
       "<div>\n",
       "<style scoped>\n",
       "    .dataframe tbody tr th:only-of-type {\n",
       "        vertical-align: middle;\n",
       "    }\n",
       "\n",
       "    .dataframe tbody tr th {\n",
       "        vertical-align: top;\n",
       "    }\n",
       "\n",
       "    .dataframe thead th {\n",
       "        text-align: right;\n",
       "    }\n",
       "</style>\n",
       "<table border=\"1\" class=\"dataframe\">\n",
       "  <thead>\n",
       "    <tr style=\"text-align: right;\">\n",
       "      <th></th>\n",
       "      <th>id</th>\n",
       "      <th>original_title</th>\n",
       "      <th>tags</th>\n",
       "    </tr>\n",
       "  </thead>\n",
       "  <tbody>\n",
       "    <tr>\n",
       "      <th>0</th>\n",
       "      <td>19995</td>\n",
       "      <td>Avatar</td>\n",
       "      <td>[In, the, 22nd, century,, a, paraplegic, Marin...</td>\n",
       "    </tr>\n",
       "    <tr>\n",
       "      <th>1</th>\n",
       "      <td>285</td>\n",
       "      <td>Pirates of the Caribbean: At World's End</td>\n",
       "      <td>[Captain, Barbossa,, long, believed, to, be, d...</td>\n",
       "    </tr>\n",
       "    <tr>\n",
       "      <th>2</th>\n",
       "      <td>206647</td>\n",
       "      <td>Spectre</td>\n",
       "      <td>[A, cryptic, message, from, Bond’s, past, send...</td>\n",
       "    </tr>\n",
       "    <tr>\n",
       "      <th>3</th>\n",
       "      <td>49026</td>\n",
       "      <td>The Dark Knight Rises</td>\n",
       "      <td>[Following, the, death, of, District, Attorney...</td>\n",
       "    </tr>\n",
       "    <tr>\n",
       "      <th>4</th>\n",
       "      <td>49529</td>\n",
       "      <td>John Carter</td>\n",
       "      <td>[John, Carter, is, a, war-weary,, former, mili...</td>\n",
       "    </tr>\n",
       "  </tbody>\n",
       "</table>\n",
       "</div>"
      ],
      "text/plain": [
       "       id                            original_title  \\\n",
       "0   19995                                    Avatar   \n",
       "1     285  Pirates of the Caribbean: At World's End   \n",
       "2  206647                                   Spectre   \n",
       "3   49026                     The Dark Knight Rises   \n",
       "4   49529                               John Carter   \n",
       "\n",
       "                                                tags  \n",
       "0  [In, the, 22nd, century,, a, paraplegic, Marin...  \n",
       "1  [Captain, Barbossa,, long, believed, to, be, d...  \n",
       "2  [A, cryptic, message, from, Bond’s, past, send...  \n",
       "3  [Following, the, death, of, District, Attorney...  \n",
       "4  [John, Carter, is, a, war-weary,, former, mili...  "
      ]
     },
     "execution_count": 24,
     "metadata": {},
     "output_type": "execute_result"
    }
   ],
   "source": [
    "new_df.head()"
   ]
  },
  {
   "cell_type": "code",
   "execution_count": 25,
   "id": "9162acab",
   "metadata": {
    "execution": {
     "iopub.execute_input": "2024-12-14T18:42:39.590659Z",
     "iopub.status.busy": "2024-12-14T18:42:39.590280Z",
     "iopub.status.idle": "2024-12-14T18:42:39.608115Z",
     "shell.execute_reply": "2024-12-14T18:42:39.607080Z"
    },
    "papermill": {
     "duration": 0.028912,
     "end_time": "2024-12-14T18:42:39.610508",
     "exception": false,
     "start_time": "2024-12-14T18:42:39.581596",
     "status": "completed"
    },
    "tags": []
   },
   "outputs": [
    {
     "name": "stderr",
     "output_type": "stream",
     "text": [
      "/tmp/ipykernel_17/487797088.py:1: SettingWithCopyWarning: \n",
      "A value is trying to be set on a copy of a slice from a DataFrame.\n",
      "Try using .loc[row_indexer,col_indexer] = value instead\n",
      "\n",
      "See the caveats in the documentation: https://pandas.pydata.org/pandas-docs/stable/user_guide/indexing.html#returning-a-view-versus-a-copy\n",
      "  new_df['tags']=new_df['tags'].apply(lambda x:\" \".join(x))\n"
     ]
    }
   ],
   "source": [
    "new_df['tags']=new_df['tags'].apply(lambda x:\" \".join(x))"
   ]
  },
  {
   "cell_type": "code",
   "execution_count": 26,
   "id": "94e32728",
   "metadata": {
    "execution": {
     "iopub.execute_input": "2024-12-14T18:42:39.627683Z",
     "iopub.status.busy": "2024-12-14T18:42:39.627231Z",
     "iopub.status.idle": "2024-12-14T18:42:39.644700Z",
     "shell.execute_reply": "2024-12-14T18:42:39.643581Z"
    },
    "papermill": {
     "duration": 0.028471,
     "end_time": "2024-12-14T18:42:39.646989",
     "exception": false,
     "start_time": "2024-12-14T18:42:39.618518",
     "status": "completed"
    },
    "tags": []
   },
   "outputs": [
    {
     "name": "stderr",
     "output_type": "stream",
     "text": [
      "/tmp/ipykernel_17/2707754272.py:1: SettingWithCopyWarning: \n",
      "A value is trying to be set on a copy of a slice from a DataFrame.\n",
      "Try using .loc[row_indexer,col_indexer] = value instead\n",
      "\n",
      "See the caveats in the documentation: https://pandas.pydata.org/pandas-docs/stable/user_guide/indexing.html#returning-a-view-versus-a-copy\n",
      "  new_df['tags']=[s.lower() for s in new_df['tags']]\n"
     ]
    }
   ],
   "source": [
    "new_df['tags']=[s.lower() for s in new_df['tags']]"
   ]
  },
  {
   "cell_type": "code",
   "execution_count": 27,
   "id": "9f3ef52b",
   "metadata": {
    "execution": {
     "iopub.execute_input": "2024-12-14T18:42:39.664087Z",
     "iopub.status.busy": "2024-12-14T18:42:39.663719Z",
     "iopub.status.idle": "2024-12-14T18:42:41.867127Z",
     "shell.execute_reply": "2024-12-14T18:42:41.865938Z"
    },
    "papermill": {
     "duration": 2.214801,
     "end_time": "2024-12-14T18:42:41.869512",
     "exception": false,
     "start_time": "2024-12-14T18:42:39.654711",
     "status": "completed"
    },
    "tags": []
   },
   "outputs": [
    {
     "name": "stdout",
     "output_type": "stream",
     "text": [
      "['/root/nltk_data', '/usr/share/nltk_data', '/usr/local/share/nltk_data', '/usr/lib/nltk_data', '/usr/local/lib/nltk_data']\n"
     ]
    }
   ],
   "source": [
    "import nltk\n",
    "print(nltk.data.path)"
   ]
  },
  {
   "cell_type": "code",
   "execution_count": 28,
   "id": "232ff2db",
   "metadata": {
    "execution": {
     "iopub.execute_input": "2024-12-14T18:42:41.887223Z",
     "iopub.status.busy": "2024-12-14T18:42:41.886730Z",
     "iopub.status.idle": "2024-12-14T18:42:41.892819Z",
     "shell.execute_reply": "2024-12-14T18:42:41.891728Z"
    },
    "papermill": {
     "duration": 0.017387,
     "end_time": "2024-12-14T18:42:41.895105",
     "exception": false,
     "start_time": "2024-12-14T18:42:41.877718",
     "status": "completed"
    },
    "tags": []
   },
   "outputs": [],
   "source": [
    "from nltk.stem.porter import PorterStemmer\n",
    "ps=PorterStemmer()\n",
    "def stem(text):\n",
    "    y=[]\n",
    "    for i in text.split():\n",
    "        y.append(ps.stem(i))\n",
    "    return \" \".join(y)"
   ]
  },
  {
   "cell_type": "code",
   "execution_count": 29,
   "id": "4b6e2d5a",
   "metadata": {
    "execution": {
     "iopub.execute_input": "2024-12-14T18:42:41.912769Z",
     "iopub.status.busy": "2024-12-14T18:42:41.912402Z",
     "iopub.status.idle": "2024-12-14T18:42:47.420939Z",
     "shell.execute_reply": "2024-12-14T18:42:47.419803Z"
    },
    "papermill": {
     "duration": 5.519975,
     "end_time": "2024-12-14T18:42:47.423188",
     "exception": false,
     "start_time": "2024-12-14T18:42:41.903213",
     "status": "completed"
    },
    "tags": []
   },
   "outputs": [
    {
     "name": "stderr",
     "output_type": "stream",
     "text": [
      "/tmp/ipykernel_17/3514595201.py:1: SettingWithCopyWarning: \n",
      "A value is trying to be set on a copy of a slice from a DataFrame.\n",
      "Try using .loc[row_indexer,col_indexer] = value instead\n",
      "\n",
      "See the caveats in the documentation: https://pandas.pydata.org/pandas-docs/stable/user_guide/indexing.html#returning-a-view-versus-a-copy\n",
      "  new_df['tags']=new_df['tags'].apply(stem)\n"
     ]
    }
   ],
   "source": [
    "new_df['tags']=new_df['tags'].apply(stem)"
   ]
  },
  {
   "cell_type": "code",
   "execution_count": 30,
   "id": "79d30b85",
   "metadata": {
    "execution": {
     "iopub.execute_input": "2024-12-14T18:42:47.440912Z",
     "iopub.status.busy": "2024-12-14T18:42:47.440540Z",
     "iopub.status.idle": "2024-12-14T18:42:48.400553Z",
     "shell.execute_reply": "2024-12-14T18:42:48.399538Z"
    },
    "papermill": {
     "duration": 0.971598,
     "end_time": "2024-12-14T18:42:48.403006",
     "exception": false,
     "start_time": "2024-12-14T18:42:47.431408",
     "status": "completed"
    },
    "tags": []
   },
   "outputs": [],
   "source": [
    "from sklearn.feature_extraction.text import CountVectorizer\n",
    "cv=CountVectorizer()\n",
    "vectors=cv.fit_transform(new_df['tags']).toarray()"
   ]
  },
  {
   "cell_type": "code",
   "execution_count": 31,
   "id": "409ee391",
   "metadata": {
    "execution": {
     "iopub.execute_input": "2024-12-14T18:42:48.420760Z",
     "iopub.status.busy": "2024-12-14T18:42:48.420387Z",
     "iopub.status.idle": "2024-12-14T18:43:02.944013Z",
     "shell.execute_reply": "2024-12-14T18:43:02.942491Z"
    },
    "papermill": {
     "duration": 14.535588,
     "end_time": "2024-12-14T18:43:02.946812",
     "exception": false,
     "start_time": "2024-12-14T18:42:48.411224",
     "status": "completed"
    },
    "tags": []
   },
   "outputs": [],
   "source": [
    "from sklearn.metrics.pairwise import cosine_similarity\n",
    "similarity= cosine_similarity(vectors)"
   ]
  },
  {
   "cell_type": "code",
   "execution_count": 32,
   "id": "6c035577",
   "metadata": {
    "execution": {
     "iopub.execute_input": "2024-12-14T18:43:02.964623Z",
     "iopub.status.busy": "2024-12-14T18:43:02.964186Z",
     "iopub.status.idle": "2024-12-14T18:43:02.970066Z",
     "shell.execute_reply": "2024-12-14T18:43:02.969022Z"
    },
    "papermill": {
     "duration": 0.017224,
     "end_time": "2024-12-14T18:43:02.972207",
     "exception": false,
     "start_time": "2024-12-14T18:43:02.954983",
     "status": "completed"
    },
    "tags": []
   },
   "outputs": [],
   "source": [
    "def recommender(movie):\n",
    "    movie_index=new_df[new_df['original_title']==movie].index[0]\n",
    "    distance= similarity[movie_index]\n",
    "    movie_list=sorted(list(enumerate(distance)), reverse=True, key=lambda x:x[1])[1:6]\n",
    "    for i in movie_list:\n",
    "        print(new_df.iloc[i[0]].original_title)"
   ]
  },
  {
   "cell_type": "code",
   "execution_count": 33,
   "id": "141a7ea8",
   "metadata": {
    "execution": {
     "iopub.execute_input": "2024-12-14T18:43:02.989594Z",
     "iopub.status.busy": "2024-12-14T18:43:02.989106Z",
     "iopub.status.idle": "2024-12-14T18:43:03.001617Z",
     "shell.execute_reply": "2024-12-14T18:43:03.000359Z"
    },
    "papermill": {
     "duration": 0.023717,
     "end_time": "2024-12-14T18:43:03.003870",
     "exception": false,
     "start_time": "2024-12-14T18:43:02.980153",
     "status": "completed"
    },
    "tags": []
   },
   "outputs": [
    {
     "name": "stdout",
     "output_type": "stream",
     "text": [
      "Aliens vs Predator: Requiem\n",
      "Aliens in the Attic\n",
      "Independence Day\n",
      "Aliens\n",
      "Battle: Los Angeles\n"
     ]
    }
   ],
   "source": [
    "recommender('Avatar')"
   ]
  },
  {
   "cell_type": "code",
   "execution_count": 34,
   "id": "2dd8a15b",
   "metadata": {
    "execution": {
     "iopub.execute_input": "2024-12-14T18:43:03.021606Z",
     "iopub.status.busy": "2024-12-14T18:43:03.021175Z",
     "iopub.status.idle": "2024-12-14T18:43:03.046185Z",
     "shell.execute_reply": "2024-12-14T18:43:03.044928Z"
    },
    "papermill": {
     "duration": 0.036502,
     "end_time": "2024-12-14T18:43:03.048618",
     "exception": false,
     "start_time": "2024-12-14T18:43:03.012116",
     "status": "completed"
    },
    "tags": []
   },
   "outputs": [
    {
     "name": "stdout",
     "output_type": "stream",
     "text": [
      "File saved to /kaggle/working/movie_name.pkl\n"
     ]
    }
   ],
   "source": [
    "import pickle\n",
    "# Save the dictionary to a .pkl file\n",
    "output_path = '/kaggle/working/movie_name.pkl'\n",
    "pickle.dump(new_df.to_dict(), open(output_path, 'wb'))\n",
    "\n",
    "print(f\"File saved to {output_path}\")\n"
   ]
  },
  {
   "cell_type": "code",
   "execution_count": 35,
   "id": "12365c1e",
   "metadata": {
    "execution": {
     "iopub.execute_input": "2024-12-14T18:43:03.066369Z",
     "iopub.status.busy": "2024-12-14T18:43:03.065956Z",
     "iopub.status.idle": "2024-12-14T18:43:03.433523Z",
     "shell.execute_reply": "2024-12-14T18:43:03.432203Z"
    },
    "papermill": {
     "duration": 0.379165,
     "end_time": "2024-12-14T18:43:03.435958",
     "exception": false,
     "start_time": "2024-12-14T18:43:03.056793",
     "status": "completed"
    },
    "tags": []
   },
   "outputs": [
    {
     "name": "stdout",
     "output_type": "stream",
     "text": [
      "File saved to /kaggle/working/similarity.pkl\n"
     ]
    }
   ],
   "source": [
    "output_path = '/kaggle/working/similarity.pkl'\n",
    "pickle.dump(similarity,open(output_path, 'wb'))\n",
    "print(f\"File saved to {output_path}\")"
   ]
  }
 ],
 "metadata": {
  "kaggle": {
   "accelerator": "none",
   "dataSources": [
    {
     "datasetId": 5070527,
     "sourceId": 8497345,
     "sourceType": "datasetVersion"
    }
   ],
   "dockerImageVersionId": 30804,
   "isGpuEnabled": false,
   "isInternetEnabled": true,
   "language": "python",
   "sourceType": "notebook"
  },
  "kernelspec": {
   "display_name": "Python 3",
   "language": "python",
   "name": "python3"
  },
  "language_info": {
   "codemirror_mode": {
    "name": "ipython",
    "version": 3
   },
   "file_extension": ".py",
   "mimetype": "text/x-python",
   "name": "python",
   "nbconvert_exporter": "python",
   "pygments_lexer": "ipython3",
   "version": "3.10.14"
  },
  "papermill": {
   "default_parameters": {},
   "duration": 41.855763,
   "end_time": "2024-12-14T18:43:04.368450",
   "environment_variables": {},
   "exception": null,
   "input_path": "__notebook__.ipynb",
   "output_path": "__notebook__.ipynb",
   "parameters": {},
   "start_time": "2024-12-14T18:42:22.512687",
   "version": "2.6.0"
  }
 },
 "nbformat": 4,
 "nbformat_minor": 5
}
